{
 "cells": [
  {
   "cell_type": "code",
   "execution_count": 73,
   "id": "aa765d52",
   "metadata": {},
   "outputs": [],
   "source": [
    "import tensorflow \n",
    "import pandas as pd\n",
    "import numpy as np\n",
    "import matplotlib.pyplot as plt"
   ]
  },
  {
   "cell_type": "code",
   "execution_count": 74,
   "id": "a63475fa-a0dc-4a78-a530-68d3274bf635",
   "metadata": {},
   "outputs": [],
   "source": [
    "from tensorflow.keras.datasets import cifar10"
   ]
  },
  {
   "cell_type": "code",
   "execution_count": 104,
   "id": "6063553c-ce65-4fbe-a1c3-e9b342043d4b",
   "metadata": {},
   "outputs": [],
   "source": [
    "(x_train,y_train),(x_test,y_test)=cifar10.load_data()"
   ]
  },
  {
   "cell_type": "code",
   "execution_count": 106,
   "id": "45986b1f-8c03-4fd3-b2d2-c5144d2228fe",
   "metadata": {},
   "outputs": [
    {
     "data": {
      "text/plain": [
       "TensorShape([32, 32, 3])"
      ]
     },
     "execution_count": 106,
     "metadata": {},
     "output_type": "execute_result"
    }
   ],
   "source": [
    "np.shape(x_train[0])"
   ]
  },
  {
   "cell_type": "code",
   "execution_count": 107,
   "id": "cbcc51d5-8377-4d41-abb4-e041965e9e22",
   "metadata": {},
   "outputs": [
    {
     "data": {
      "image/png": "[encoded data removed]",
      "text/plain": [
       "<Figure size 900x300 with 6 Axes>"
      ]
     },
     "metadata": {},
     "output_type": "display_data"
    }
   ],
   "source": [
    "fig,axes=plt.subplots(1,6,figsize=(9,3))\n",
    "for i,a in enumerate(axes.flat):\n",
    "    a.imshow(x_train[i])\n",
    "    a.axis('off')\n",
    "plt.show()"
   ]
  },
  {
   "cell_type": "code",
   "execution_count": 108,
   "id": "b1ef1515-5372-4ba3-8d63-01766f60f381",
   "metadata": {},
   "outputs": [],
   "source": [
    "\n",
    "y_train = to_categorical(y_train, num_classes=10)\n",
    "y_test = to_categorical(y_test, num_classes=10)\n",
    "\n",
    "x_train=x_train/255\n",
    "x_test=x_test/255"
   ]
  },
  {
   "cell_type": "code",
   "execution_count": 133,
   "id": "6bad91c2-4c82-4b2a-8a31-7921ad2b649e",
   "metadata": {},
   "outputs": [
    {
     "name": "stdout",
     "output_type": "stream",
     "text": [
      "Model: \"sequential_29\"\n",
      "_________________________________________________________________\n",
      " Layer (type)                Output Shape              Param #   \n",
      "=================================================================\n",
      " conv2d_34 (Conv2D)          (None, 30, 30, 32)        896       \n",
      "                                                                 \n",
      " batch_normalization_4 (Bat  (None, 30, 30, 32)        128       \n",
      " chNormalization)                                                \n",
      "                                                                 \n",
      " max_pooling2d_31 (MaxPooli  (None, 10, 10, 32)        0         \n",
      " ng2D)                                                           \n",
      "                                                                 \n",
      " flatten_23 (Flatten)        (None, 3200)              0         \n",
      "                                                                 \n",
      " dense_79 (Dense)            (None, 128)               409728    \n",
      "                                                                 \n",
      " dense_80 (Dense)            (None, 256)               33024     \n",
      "                                                                 \n",
      " dense_81 (Dense)            (None, 256)               65792     \n",
      "                                                                 \n",
      " dense_82 (Dense)            (None, 128)               32896     \n",
      "                                                                 \n",
      " dense_83 (Dense)            (None, 128)               16512     \n",
      "                                                                 \n",
      " dense_84 (Dense)            (None, 10)                1290      \n",
      "                                                                 \n",
      "=================================================================\n",
      "Total params: 560266 (2.14 MB)\n",
      "Trainable params: 560202 (2.14 MB)\n",
      "Non-trainable params: 64 (256.00 Byte)\n",
      "_________________________________________________________________\n"
     ]
    }
   ],
   "source": [
    "#create model\n",
    "model=tensorflow.keras.Sequential()\n",
    "model.add(tensorflow.keras.layers.Input(shape=np.shape(x_train[0]))),\n",
    "model.add(tensorflow.keras.layers.Conv2D(filters=32,kernel_size=(3,3),activation='relu')),\n",
    "model.add(tf.keras.layers.BatchNormalization()),\n",
    "model.add(tensorflow.keras.layers.MaxPooling2D(pool_size=(3,3))),\n",
    "model.add(tensorflow.keras.layers.Flatten())\n",
    "model.add(tensorflow.keras.layers.Dense(128)),\n",
    "model.add(tf.keras.layers.Dense(256, activation='relu')),\n",
    "model.add(tf.keras.layers.Dense(256, activation='relu')),\n",
    "model.add(tf.keras.layers.Dense(128, activation='relu')),\n",
    "model.add(tf.keras.layers.Dense(128 , activation='relu')),\n",
    "model.add(tensorflow.keras.layers.Dense(units=10, activation='softmax')),\n",
    "model.compile(optimizer='adam', loss='categorical_crossentropy', metrics=['accuracy'])\n",
    "\n",
    "# Print the model summary\n",
    "model.summary()"
   ]
  },
  {
   "cell_type": "code",
   "execution_count": null,
   "id": "29c747b0-50b3-413d-ae33-455ae2750618",
   "metadata": {},
   "outputs": [],
   "source": [
    "model.fit(x_train, y_train,batch_size=64, epochs=10, validation_data=(x_test, y_test))"
   ]
  },
  {
   "cell_type": "code",
   "execution_count": null,
   "id": "6c957f07-2c95-4f95-afdb-465237fe760d",
   "metadata": {},
   "outputs": [],
   "source": [
    "loss,accuracy=model.evaluate(x_test,y_test)\n",
    "print('Accuracy: ',accuracy*100)"
   ]
  },
  {
   "cell_type": "code",
   "execution_count": null,
   "id": "c696a717-eed4-40ef-bb63-2df414f4dab5",
   "metadata": {},
   "outputs": [],
   "source": []
  },
  {
   "cell_type": "code",
   "execution_count": null,
   "id": "1464427c-8560-4b48-ac05-3c142b01e5c6",
   "metadata": {},
   "outputs": [],
   "source": []
  }
 ],
 "metadata": {
  "kernelspec": {
   "display_name": "Python 3 (ipykernel)",
   "language": "python",
   "name": "python3"
  },
  "language_info": {
   "codemirror_mode": {
    "name": "ipython",
    "version": 3
   },
   "file_extension": ".py",
   "mimetype": "text/x-python",
   "name": "python",
   "nbconvert_exporter": "python",
   "pygments_lexer": "ipython3",
   "version": "3.11.4"
  }
 },
 "nbformat": 4,
 "nbformat_minor": 5
}
