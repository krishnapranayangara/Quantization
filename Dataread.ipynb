{
 "cells": [
  {
   "cell_type": "code",
   "execution_count": 1,
   "id": "aa765d52",
   "metadata": {},
   "outputs": [],
   "source": [
    "import tensorflow \n",
    "import pandas as pd\n",
    "import numpy as np\n",
    "import matplotlib.pyplot as plt"
   ]
  },
  {
   "cell_type": "code",
   "execution_count": 2,
   "id": "a63475fa-a0dc-4a78-a530-68d3274bf635",
   "metadata": {},
   "outputs": [],
   "source": [
    "from tensorflow.keras.datasets import cifar10"
   ]
  },
  {
   "cell_type": "code",
   "execution_count": 3,
   "id": "6063553c-ce65-4fbe-a1c3-e9b342043d4b",
   "metadata": {},
   "outputs": [],
   "source": [
    "(x_train,y_train),(x_test,y_test)=cifar10.load_data()"
   ]
  },
  {
   "cell_type": "code",
   "execution_count": 4,
   "id": "45986b1f-8c03-4fd3-b2d2-c5144d2228fe",
   "metadata": {},
   "outputs": [
    {
     "data": {
      "text/plain": [
       "(32, 32, 3)"
      ]
     },
     "execution_count": 4,
     "metadata": {},
     "output_type": "execute_result"
    }
   ],
   "source": [
    "np.shape(x_train[0])"
   ]
  },
  {
   "cell_type": "code",
   "execution_count": 5,
   "id": "cbcc51d5-8377-4d41-abb4-e041965e9e22",
   "metadata": {},
   "outputs": [
    {
     "data": {
      "image/png": "[encoded data removed]",
      "text/plain": [
       "<Figure size 900x300 with 6 Axes>"
      ]
     },
     "metadata": {},
     "output_type": "display_data"
    }
   ],
   "source": [
    "fig,axes=plt.subplots(1,6,figsize=(9,3))\n",
    "for i,a in enumerate(axes.flat):\n",
    "    a.imshow(x_train[i])\n",
    "    a.axis('off')\n",
    "plt.show()"
   ]
  },
  {
   "cell_type": "code",
   "execution_count": 6,
   "id": "b1ef1515-5372-4ba3-8d63-01766f60f381",
   "metadata": {},
   "outputs": [],
   "source": [
    "#normalise the data\n",
    "x_train=x_train/255\n",
    "x_test=x_test/255\n",
    "\n",
    "y_train = tensorflow.keras.utils.to_categorical(y_train, num_classes=10)\n",
    "y_test = tensorflow.keras.utils.to_categorical(y_test, num_classes=10)"
   ]
  },
  {
   "cell_type": "code",
   "execution_count": 29,
   "id": "6bad91c2-4c82-4b2a-8a31-7921ad2b649e",
   "metadata": {},
   "outputs": [
    {
     "name": "stdout",
     "output_type": "stream",
     "text": [
      "Model: \"sequential_3\"\n",
      "_________________________________________________________________\n",
      " Layer (type)                Output Shape              Param #   \n",
      "=================================================================\n",
      " conv2d_3 (Conv2D)           (None, 30, 30, 32)        896       \n",
      "                                                                 \n",
      " max_pooling2d_2 (MaxPoolin  (None, 10, 10, 32)        0         \n",
      " g2D)                                                            \n",
      "                                                                 \n",
      " flatten_2 (Flatten)         (None, 3200)              0         \n",
      "                                                                 \n",
      " dense_8 (Dense)             (None, 128)               409728    \n",
      "                                                                 \n",
      " dense_9 (Dense)             (None, 256)               33024     \n",
      "                                                                 \n",
      " dense_10 (Dense)            (None, 256)               65792     \n",
      "                                                                 \n",
      " dense_11 (Dense)            (None, 10)                2570      \n",
      "                                                                 \n",
      "=================================================================\n",
      "Total params: 512010 (1.95 MB)\n",
      "Trainable params: 512010 (1.95 MB)\n",
      "Non-trainable params: 0 (0.00 Byte)\n",
      "_________________________________________________________________\n"
     ]
    }
   ],
   "source": [
    "#create model\n",
    "import tensorflow as tf\n",
    "\n",
    "model=tensorflow.keras.Sequential()\n",
    "model.add(tensorflow.keras.layers.Input(shape=np.shape(x_train[0]))),\n",
    "model.add(tensorflow.keras.layers.Conv2D(filters=32,kernel_size=(3,3),activation='relu')),\n",
    "model.add(tensorflow.keras.layers.MaxPooling2D(pool_size=(3,3))),\n",
    "model.add(tensorflow.keras.layers.Flatten())\n",
    "model.add(tensorflow.keras.layers.Dense(128)),\n",
    "model.add(tf.keras.layers.Dense(256, activation='relu')),\n",
    "model.add(tf.keras.layers.Dense(256, activation='relu')),\n",
    "model.add(tensorflow.keras.layers.Dense(units=10, activation='softmax')),\n",
    "model.compile(optimizer='adam', loss='categorical_crossentropy', metrics=['accuracy'])\n",
    "\n",
    "# Print the model summary\n",
    "model.summary()"
   ]
  },
  {
   "cell_type": "code",
   "execution_count": 34,
   "id": "29c747b0-50b3-413d-ae33-455ae2750618",
   "metadata": {},
   "outputs": [
    {
     "name": "stdout",
     "output_type": "stream",
     "text": [
      "Epoch 1/10\n",
      "782/782 [==============================] - 43s 53ms/step - loss: 1.4162 - accuracy: 0.4855 - val_loss: 1.1756 - val_accuracy: 0.5757\n",
      "Epoch 2/10\n",
      "782/782 [==============================] - 41s 53ms/step - loss: 1.0946 - accuracy: 0.6146 - val_loss: 1.0602 - val_accuracy: 0.6259\n",
      "Epoch 3/10\n",
      "782/782 [==============================] - 42s 53ms/step - loss: 0.9618 - accuracy: 0.6589 - val_loss: 1.0013 - val_accuracy: 0.6495\n",
      "Epoch 4/10\n",
      "782/782 [==============================] - 43s 55ms/step - loss: 0.8627 - accuracy: 0.6968 - val_loss: 0.9620 - val_accuracy: 0.6654\n",
      "Epoch 5/10\n",
      "782/782 [==============================] - 41s 53ms/step - loss: 0.7831 - accuracy: 0.7238 - val_loss: 0.9616 - val_accuracy: 0.6748\n",
      "Epoch 6/10\n",
      "782/782 [==============================] - 42s 54ms/step - loss: 0.7073 - accuracy: 0.7497 - val_loss: 0.9599 - val_accuracy: 0.6842\n",
      "Epoch 7/10\n",
      "782/782 [==============================] - 42s 54ms/step - loss: 0.6387 - accuracy: 0.7740 - val_loss: 1.0124 - val_accuracy: 0.6689\n",
      "Epoch 8/10\n",
      "782/782 [==============================] - 42s 54ms/step - loss: 0.5672 - accuracy: 0.7988 - val_loss: 0.9627 - val_accuracy: 0.6881\n",
      "Epoch 9/10\n",
      "782/782 [==============================] - 42s 54ms/step - loss: 0.5031 - accuracy: 0.8206 - val_loss: 1.0400 - val_accuracy: 0.6822\n",
      "Epoch 10/10\n",
      "782/782 [==============================] - 42s 54ms/step - loss: 0.4418 - accuracy: 0.8429 - val_loss: 1.0878 - val_accuracy: 0.6779\n"
     ]
    },
    {
     "data": {
      "text/plain": [
       "<keras.src.callbacks.History at 0x1671f39b190>"
      ]
     },
     "execution_count": 34,
     "metadata": {},
     "output_type": "execute_result"
    }
   ],
   "source": [
    "model.fit(x_train, y_train,batch_size=64, epochs=10, validation_data=(x_test, y_test))"
   ]
  },
  {
   "cell_type": "code",
   "execution_count": 35,
   "id": "6c957f07-2c95-4f95-afdb-465237fe760d",
   "metadata": {},
   "outputs": [
    {
     "name": "stdout",
     "output_type": "stream",
     "text": [
      "313/313 [==============================] - 3s 11ms/step - loss: 1.0878 - accuracy: 0.6779\n",
      "Accuracy:  67.79000163078308\n"
     ]
    }
   ],
   "source": [
    "loss,accuracy=model.evaluate(x_test,y_test)\n",
    "print('Accuracy: ',accuracy*100)"
   ]
  },
  {
   "cell_type": "code",
   "execution_count": 36,
   "id": "c696a717-eed4-40ef-bb63-2df414f4dab5",
   "metadata": {},
   "outputs": [
    {
     "name": "stdout",
     "output_type": "stream",
     "text": [
      "INFO:tensorflow:Assets written to: saved_models\\assets\n"
     ]
    },
    {
     "name": "stderr",
     "output_type": "stream",
     "text": [
      "INFO:tensorflow:Assets written to: saved_models\\assets\n"
     ]
    }
   ],
   "source": [
    "model.save(\"saved_models\")"
   ]
  },
  {
   "cell_type": "code",
   "execution_count": 15,
   "id": "3ed40e41-888c-4dc7-966e-76226cd02225",
   "metadata": {},
   "outputs": [],
   "source": [
    "# Quantization Aware Training"
   ]
  },
  {
   "cell_type": "code",
   "execution_count": 27,
   "id": "68454ccb-ad05-48a0-ae8d-54721d833e99",
   "metadata": {},
   "outputs": [],
   "source": [
    "import tensorflow_model_optimization as tfmot\n",
    "from tensorflow_model_optimization.quantization.keras import quantize_model"
   ]
  },
  {
   "cell_type": "code",
   "execution_count": 30,
   "id": "fa89b6e5-df74-40e4-b7f5-a7ff42dd8f04",
   "metadata": {},
   "outputs": [
    {
     "name": "stdout",
     "output_type": "stream",
     "text": [
      "Model: \"sequential_3\"\n",
      "_________________________________________________________________\n",
      " Layer (type)                Output Shape              Param #   \n",
      "=================================================================\n",
      " quantize_layer_3 (Quantize  (None, 32, 32, 3)         3         \n",
      " Layer)                                                          \n",
      "                                                                 \n",
      " quant_conv2d_3 (QuantizeWr  (None, 30, 30, 32)        963       \n",
      " apperV2)                                                        \n",
      "                                                                 \n",
      " quant_max_pooling2d_2 (Qua  (None, 10, 10, 32)        1         \n",
      " ntizeWrapperV2)                                                 \n",
      "                                                                 \n",
      " quant_flatten_2 (QuantizeW  (None, 3200)              1         \n",
      " rapperV2)                                                       \n",
      "                                                                 \n",
      " quant_dense_8 (QuantizeWra  (None, 128)               409733    \n",
      " pperV2)                                                         \n",
      "                                                                 \n",
      " quant_dense_9 (QuantizeWra  (None, 256)               33029     \n",
      " pperV2)                                                         \n",
      "                                                                 \n",
      " quant_dense_10 (QuantizeWr  (None, 256)               65797     \n",
      " apperV2)                                                        \n",
      "                                                                 \n",
      " quant_dense_11 (QuantizeWr  (None, 10)                2575      \n",
      " apperV2)                                                        \n",
      "                                                                 \n",
      "=================================================================\n",
      "Total params: 512102 (1.95 MB)\n",
      "Trainable params: 512010 (1.95 MB)\n",
      "Non-trainable params: 92 (368.00 Byte)\n",
      "_________________________________________________________________\n"
     ]
    }
   ],
   "source": [
    "quantized_model = quantize_model(model)\n",
    "quantized_model.compile(optimizer='Adam', loss='categorical_crossentropy', metrics=['accuracy'])\n",
    "quantized_model.summary()"
   ]
  },
  {
   "cell_type": "code",
   "execution_count": 32,
   "id": "90839774-90c0-410a-9a5e-d4f7812d3b51",
   "metadata": {},
   "outputs": [
    {
     "name": "stdout",
     "output_type": "stream",
     "text": [
      "Epoch 1/10\n",
      "1563/1563 [==============================] - 78s 48ms/step - loss: 1.3981 - accuracy: 0.4949 - val_loss: 1.2332 - val_accuracy: 0.5580\n",
      "Epoch 2/10\n",
      "1563/1563 [==============================] - 77s 50ms/step - loss: 1.0962 - accuracy: 0.6116 - val_loss: 1.0835 - val_accuracy: 0.6152\n",
      "Epoch 3/10\n",
      "1563/1563 [==============================] - 79s 51ms/step - loss: 0.9704 - accuracy: 0.6598 - val_loss: 1.0511 - val_accuracy: 0.6307\n",
      "Epoch 4/10\n",
      "1563/1563 [==============================] - 78s 50ms/step - loss: 0.8775 - accuracy: 0.6899 - val_loss: 1.0649 - val_accuracy: 0.6337\n",
      "Epoch 5/10\n",
      "1563/1563 [==============================] - 76s 49ms/step - loss: 0.8014 - accuracy: 0.7168 - val_loss: 1.0228 - val_accuracy: 0.6585\n",
      "Epoch 6/10\n",
      "1563/1563 [==============================] - 79s 50ms/step - loss: 0.7187 - accuracy: 0.7476 - val_loss: 1.0897 - val_accuracy: 0.6511\n",
      "Epoch 7/10\n",
      "1563/1563 [==============================] - 78s 50ms/step - loss: 0.6485 - accuracy: 0.7672 - val_loss: 1.0027 - val_accuracy: 0.6708\n",
      "Epoch 8/10\n",
      "1563/1563 [==============================] - 79s 50ms/step - loss: 0.5800 - accuracy: 0.7913 - val_loss: 1.1728 - val_accuracy: 0.6585\n",
      "Epoch 9/10\n",
      "1563/1563 [==============================] - 78s 50ms/step - loss: 0.5211 - accuracy: 0.8117 - val_loss: 1.1499 - val_accuracy: 0.6571\n",
      "Epoch 10/10\n",
      "1563/1563 [==============================] - 78s 50ms/step - loss: 0.4574 - accuracy: 0.8376 - val_loss: 1.2993 - val_accuracy: 0.6459\n"
     ]
    },
    {
     "data": {
      "text/plain": [
       "<keras.src.callbacks.History at 0x1671eafc910>"
      ]
     },
     "execution_count": 32,
     "metadata": {},
     "output_type": "execute_result"
    }
   ],
   "source": [
    "quantized_model.fit(x_train,y_train,batch_size=32,epochs=10,validation_data=(x_test,y_test))"
   ]
  },
  {
   "cell_type": "code",
   "execution_count": 33,
   "id": "4448df31-8440-4ad8-8208-571281e8fc1e",
   "metadata": {},
   "outputs": [
    {
     "name": "stdout",
     "output_type": "stream",
     "text": [
      "313/313 [==============================] - 6s 18ms/step - loss: 1.2993 - accuracy: 0.6459\n"
     ]
    }
   ],
   "source": [
    "loss,accuracy=quantized_model.evaluate(x_test,y_test)"
   ]
  },
  {
   "cell_type": "code",
   "execution_count": 41,
   "id": "c9a26c36-a2e0-4f0a-9bd5-c14a5331846d",
   "metadata": {},
   "outputs": [
    {
     "name": "stderr",
     "output_type": "stream",
     "text": [
      "C:\\Users\\krish\\AppData\\Local\\Programs\\Python\\Python311\\Lib\\site-packages\\keras\\src\\engine\\training.py:3000: UserWarning: You are saving your model as an HDF5 file via `model.save()`. This file format is considered legacy. We recommend using instead the native Keras format, e.g. `model.save('my_model.keras')`.\n",
      "  saving_api.save_model(\n"
     ]
    }
   ],
   "source": [
    "quantized_model.save(\"saved_models/qat_model.h5\")"
   ]
  },
  {
   "cell_type": "code",
   "execution_count": 43,
   "id": "83c4c885-b075-4128-978d-6ee80e24ca8c",
   "metadata": {},
   "outputs": [
    {
     "name": "stdout",
     "output_type": "stream",
     "text": [
      "INFO:tensorflow:Assets written to: C:\\Users\\krish\\AppData\\Local\\Temp\\tmpuedglu7a\\assets\n"
     ]
    },
    {
     "name": "stderr",
     "output_type": "stream",
     "text": [
      "INFO:tensorflow:Assets written to: C:\\Users\\krish\\AppData\\Local\\Temp\\tmpuedglu7a\\assets\n",
      "C:\\Users\\krish\\AppData\\Local\\Programs\\Python\\Python311\\Lib\\site-packages\\tensorflow\\lite\\python\\convert.py:887: UserWarning: Statistics for quantized inputs were expected, but not specified; continuing anyway.\n",
      "  warnings.warn(\n"
     ]
    }
   ],
   "source": [
    "converter = tf.lite.TFLiteConverter.from_keras_model(quantized_model)\n",
    "converter.optimizations = [tf.lite.Optimize.DEFAULT]\n",
    "\n",
    "tflite_qaware_model = converter.convert()"
   ]
  },
  {
   "cell_type": "code",
   "execution_count": 44,
   "id": "def50165-0b14-45e6-8e36-13bcdddc338e",
   "metadata": {},
   "outputs": [],
   "source": [
    "with open(\"saved_models/tflite_qaware_model.tflite\", 'wb') as f:\n",
    "    f.write(tflite_qaware_model)"
   ]
  },
  {
   "cell_type": "code",
   "execution_count": null,
   "id": "d9f6f3d4-614c-482c-ba3c-8ef9fe1183a8",
   "metadata": {},
   "outputs": [],
   "source": []
  },
  {
   "cell_type": "code",
   "execution_count": null,
   "id": "dbda8826-0ab9-4746-b99f-641b1302dc18",
   "metadata": {},
   "outputs": [],
   "source": []
  }
 ],
 "metadata": {
  "kernelspec": {
   "display_name": "Python 3 (ipykernel)",
   "language": "python",
   "name": "python3"
  },
  "language_info": {
   "codemirror_mode": {
    "name": "ipython",
    "version": 3
   },
   "file_extension": ".py",
   "mimetype": "text/x-python",
   "name": "python",
   "nbconvert_exporter": "python",
   "pygments_lexer": "ipython3",
   "version": "3.11.4"
  }
 },
 "nbformat": 4,
 "nbformat_minor": 5
}
